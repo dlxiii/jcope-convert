{
 "cells": [
  {
   "cell_type": "code",
   "execution_count": 1,
   "metadata": {},
   "outputs": [],
   "source": [
    "import numpy as np\n",
    "from scipy.io import FortranFile"
   ]
  },
  {
   "cell_type": "code",
   "execution_count": 10,
   "metadata": {},
   "outputs": [
    {
     "data": {
      "text/plain": [
       "<scipy.io._fortran.FortranFile at 0xb138499d0>"
      ]
     },
     "execution_count": 10,
     "metadata": {},
     "output_type": "execute_result"
    }
   ],
   "source": [
    "f = FortranFile('../fra_jcope/basic.dat', 'r')\n",
    "# a = f.read_reals(dtype=np.int)\n",
    "f"
   ]
  },
  {
   "cell_type": "code",
   "execution_count": 78,
   "metadata": {},
   "outputs": [
    {
     "data": {
      "text/plain": [
       "array([(b'', 23040, 14411, 30066, 31342),\n",
       "       (b'',     0,     0,     0,     0),\n",
       "       (b'',     0,     0,     0,     0), ...,\n",
       "       (b'',     0,     0,     0,     0),\n",
       "       (b'',     0,     0,     0,     0),\n",
       "       (b'',   256, 16610, 23040, 14411)],\n",
       "      dtype=[('fildsc', 'S'), ('z', '<i2'), ('zz', '<i2'), ('dz', '<i2'), ('ichflg', '<i2')])"
      ]
     },
     "execution_count": 78,
     "metadata": {},
     "output_type": "execute_result"
    }
   ],
   "source": [
    "fname = '../fra_jcope/basic.dat'\n",
    "dt = np.dtype([('fildsc', 'S'),('z', np.int16),('zz', np.int16),('dz', np.int16), ('ichflg', np.int16)])\n",
    "np.fromfile(fname, dtype=dt)"
   ]
  },
  {
   "cell_type": "code",
   "execution_count": 79,
   "metadata": {},
   "outputs": [
    {
     "data": {
      "text/plain": [
       "47"
      ]
     },
     "execution_count": 79,
     "metadata": {},
     "output_type": "execute_result"
    }
   ],
   "source": [
    "nx, ny, nz = (122, 86, 47)\n",
    "nz"
   ]
  },
  {
   "cell_type": "code",
   "execution_count": 81,
   "metadata": {},
   "outputs": [],
   "source": [
    "fname = '../fra_jcope/basic.dat'\n",
    "nx, ny, nz = (122, 86, 47)\n",
    "\n",
    "with open(fname, 'rb') as f:\n",
    "    data = np.fromfile(f, dtype=dt, count = -1)\n",
    "    #array = np.reshape(data, [nx, ny, nz], order = 'F')"
   ]
  },
  {
   "cell_type": "code",
   "execution_count": 82,
   "metadata": {},
   "outputs": [
    {
     "data": {
      "text/plain": [
       "array([(b'', 23040, 14411, 30066, 31342),\n",
       "       (b'',     0,     0,     0,     0),\n",
       "       (b'',     0,     0,     0,     0), ...,\n",
       "       (b'',     0,     0,     0,     0),\n",
       "       (b'',     0,     0,     0,     0),\n",
       "       (b'',   256, 16610, 23040, 14411)],\n",
       "      dtype=[('fildsc', 'S'), ('z', '<i2'), ('zz', '<i2'), ('dz', '<i2'), ('ichflg', '<i2')])"
      ]
     },
     "execution_count": 82,
     "metadata": {},
     "output_type": "execute_result"
    }
   ],
   "source": [
    "data"
   ]
  },
  {
   "cell_type": "code",
   "execution_count": 84,
   "metadata": {},
   "outputs": [
    {
     "data": {
      "text/plain": [
       "(739688,)"
      ]
     },
     "execution_count": 84,
     "metadata": {},
     "output_type": "execute_result"
    }
   ],
   "source": [
    "data.shape"
   ]
  },
  {
   "cell_type": "code",
   "execution_count": 3,
   "metadata": {},
   "outputs": [],
   "source": [
    "from py3grads import Grads\n",
    "ga = Grads(verbose=False)"
   ]
  },
  {
   "cell_type": "code",
   "execution_count": 8,
   "metadata": {},
   "outputs": [],
   "source": [
    "folder = '/Users/yulong/Documents/GitHub/jcope-convert/fra_jcope/'\n",
    "name = 'el.ctl'"
   ]
  },
  {
   "cell_type": "code",
   "execution_count": 11,
   "metadata": {},
   "outputs": [
    {
     "name": "stdout",
     "output_type": "stream",
     "text": [
      "Scanning description file:  ../el.ctl\n",
      "Open Error:  Can't open description file\n",
      "\n"
     ]
    },
    {
     "ename": "GrADSError",
     "evalue": "GrADS returned rc=1 for the following command:\nopen ../el.ctl",
     "output_type": "error",
     "traceback": [
      "\u001b[0;31m---------------------------------------------------------------------------\u001b[0m",
      "\u001b[0;31mGrADSError\u001b[0m                                Traceback (most recent call last)",
      "\u001b[0;32m<ipython-input-11-dc91e3071dbe>\u001b[0m in \u001b[0;36m<module>\u001b[0;34m\u001b[0m\n\u001b[0;32m----> 1\u001b[0;31m \u001b[0mga\u001b[0m\u001b[0;34m(\u001b[0m\u001b[0;34m'open ../el.ctl'\u001b[0m\u001b[0;34m)\u001b[0m\u001b[0;34m\u001b[0m\u001b[0;34m\u001b[0m\u001b[0m\n\u001b[0m\u001b[1;32m      2\u001b[0m \u001b[0mout\u001b[0m\u001b[0;34m,\u001b[0m \u001b[0mrc\u001b[0m \u001b[0;34m=\u001b[0m \u001b[0mga\u001b[0m\u001b[0;34m(\u001b[0m\u001b[0;34m'query file'\u001b[0m\u001b[0;34m)\u001b[0m\u001b[0;34m\u001b[0m\u001b[0;34m\u001b[0m\u001b[0m\n",
      "\u001b[0;32m~/anaconda3/envs/opengrads/lib/python3.7/site-packages/py3grads/gacore.py\u001b[0m in \u001b[0;36m__call__\u001b[0;34m(self, gacmd)\u001b[0m\n\u001b[1;32m     99\u001b[0m             \u001b[0mprint\u001b[0m\u001b[0;34m(\u001b[0m\u001b[0;34m'\\n'\u001b[0m\u001b[0;34m.\u001b[0m\u001b[0mjoin\u001b[0m\u001b[0;34m(\u001b[0m\u001b[0moutlines\u001b[0m\u001b[0;34m)\u001b[0m\u001b[0;34m)\u001b[0m\u001b[0;34m\u001b[0m\u001b[0;34m\u001b[0m\u001b[0m\n\u001b[1;32m    100\u001b[0m             raise GrADSError('GrADS returned rc='+str(rc)\n\u001b[0;32m--> 101\u001b[0;31m                              +' for the following command:\\n'+gacmd)\n\u001b[0m\u001b[1;32m    102\u001b[0m         \u001b[0;32mreturn\u001b[0m \u001b[0moutlines\u001b[0m\u001b[0;34m,\u001b[0m \u001b[0mrc\u001b[0m\u001b[0;34m\u001b[0m\u001b[0;34m\u001b[0m\u001b[0m\n\u001b[1;32m    103\u001b[0m \u001b[0;34m\u001b[0m\u001b[0m\n",
      "\u001b[0;31mGrADSError\u001b[0m: GrADS returned rc=1 for the following command:\nopen ../el.ctl"
     ]
    }
   ],
   "source": [
    "ga('open ../el.ctl')\n",
    "out, rc = ga('query file')"
   ]
  },
  {
   "cell_type": "code",
   "execution_count": null,
   "metadata": {},
   "outputs": [],
   "source": []
  }
 ],
 "metadata": {
  "kernelspec": {
   "display_name": "Python 3",
   "language": "python",
   "name": "python3"
  },
  "language_info": {
   "codemirror_mode": {
    "name": "ipython",
    "version": 3
   },
   "file_extension": ".py",
   "mimetype": "text/x-python",
   "name": "python",
   "nbconvert_exporter": "python",
   "pygments_lexer": "ipython3",
   "version": "3.7.4"
  }
 },
 "nbformat": 4,
 "nbformat_minor": 2
}
