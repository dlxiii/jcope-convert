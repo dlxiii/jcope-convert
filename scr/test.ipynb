{
 "cells": [
  {
   "cell_type": "code",
   "execution_count": 1,
   "metadata": {},
   "outputs": [],
   "source": [
    "from py3grads import Grads\n",
    "from matplotlib import pyplot as plt\n",
    "#ga = Grads(verbose=False)\n",
    "#ga = Grads(verbose=True)"
   ]
  },
  {
   "cell_type": "code",
   "execution_count": 6,
   "metadata": {},
   "outputs": [
    {
     "ename": "FileNotFoundError",
     "evalue": "[WinError 2] The system cannot find the file specified",
     "output_type": "error",
     "traceback": [
      "\u001b[1;31m---------------------------------------------------------------------------\u001b[0m",
      "\u001b[1;31mFileNotFoundError\u001b[0m                         Traceback (most recent call last)",
      "\u001b[1;32m<ipython-input-6-6ff6472465fb>\u001b[0m in \u001b[0;36m<module>\u001b[1;34m\u001b[0m\n\u001b[1;32m----> 1\u001b[1;33m \u001b[0mga\u001b[0m \u001b[1;33m=\u001b[0m \u001b[0mGrads\u001b[0m\u001b[1;33m(\u001b[0m\u001b[0mverbose\u001b[0m \u001b[1;33m=\u001b[0m \u001b[1;32mFalse\u001b[0m\u001b[1;33m)\u001b[0m\u001b[1;33m\u001b[0m\u001b[1;33m\u001b[0m\u001b[0m\n\u001b[0m",
      "\u001b[1;32mC:\\Anaconda3\\envs\\opengrads2.2.1\\lib\\site-packages\\py3grads\\gacore.py\u001b[0m in \u001b[0;36m__init__\u001b[1;34m(self, launch, verbose)\u001b[0m\n\u001b[0;32m     74\u001b[0m         \u001b[1;31m# Launch the GrADS process\u001b[0m\u001b[1;33m\u001b[0m\u001b[1;33m\u001b[0m\u001b[1;33m\u001b[0m\u001b[0m\n\u001b[0;32m     75\u001b[0m         self.p = Popen(args, bufsize=0, stdin=PIPE, stdout=PIPE, stderr=STDOUT,\n\u001b[1;32m---> 76\u001b[1;33m                        universal_newlines=False)\n\u001b[0m\u001b[0;32m     77\u001b[0m \u001b[1;33m\u001b[0m\u001b[0m\n\u001b[0;32m     78\u001b[0m         \u001b[1;31m# Define regex matching ANSI formatting\u001b[0m\u001b[1;33m\u001b[0m\u001b[1;33m\u001b[0m\u001b[1;33m\u001b[0m\u001b[0m\n",
      "\u001b[1;32mC:\\Anaconda3\\envs\\opengrads2.2.1\\lib\\subprocess.py\u001b[0m in \u001b[0;36m__init__\u001b[1;34m(self, args, bufsize, executable, stdin, stdout, stderr, preexec_fn, close_fds, shell, cwd, env, universal_newlines, startupinfo, creationflags, restore_signals, start_new_session, pass_fds, encoding, errors, text)\u001b[0m\n\u001b[0;32m    773\u001b[0m                                 \u001b[0mc2pread\u001b[0m\u001b[1;33m,\u001b[0m \u001b[0mc2pwrite\u001b[0m\u001b[1;33m,\u001b[0m\u001b[1;33m\u001b[0m\u001b[1;33m\u001b[0m\u001b[0m\n\u001b[0;32m    774\u001b[0m                                 \u001b[0merrread\u001b[0m\u001b[1;33m,\u001b[0m \u001b[0merrwrite\u001b[0m\u001b[1;33m,\u001b[0m\u001b[1;33m\u001b[0m\u001b[1;33m\u001b[0m\u001b[0m\n\u001b[1;32m--> 775\u001b[1;33m                                 restore_signals, start_new_session)\n\u001b[0m\u001b[0;32m    776\u001b[0m         \u001b[1;32mexcept\u001b[0m\u001b[1;33m:\u001b[0m\u001b[1;33m\u001b[0m\u001b[1;33m\u001b[0m\u001b[0m\n\u001b[0;32m    777\u001b[0m             \u001b[1;31m# Cleanup if the child failed starting.\u001b[0m\u001b[1;33m\u001b[0m\u001b[1;33m\u001b[0m\u001b[1;33m\u001b[0m\u001b[0m\n",
      "\u001b[1;32mC:\\Anaconda3\\envs\\opengrads2.2.1\\lib\\subprocess.py\u001b[0m in \u001b[0;36m_execute_child\u001b[1;34m(self, args, executable, preexec_fn, close_fds, pass_fds, cwd, env, startupinfo, creationflags, shell, p2cread, p2cwrite, c2pread, c2pwrite, errread, errwrite, unused_restore_signals, unused_start_new_session)\u001b[0m\n\u001b[0;32m   1176\u001b[0m                                          \u001b[0menv\u001b[0m\u001b[1;33m,\u001b[0m\u001b[1;33m\u001b[0m\u001b[1;33m\u001b[0m\u001b[0m\n\u001b[0;32m   1177\u001b[0m                                          \u001b[0mos\u001b[0m\u001b[1;33m.\u001b[0m\u001b[0mfspath\u001b[0m\u001b[1;33m(\u001b[0m\u001b[0mcwd\u001b[0m\u001b[1;33m)\u001b[0m \u001b[1;32mif\u001b[0m \u001b[0mcwd\u001b[0m \u001b[1;32mis\u001b[0m \u001b[1;32mnot\u001b[0m \u001b[1;32mNone\u001b[0m \u001b[1;32melse\u001b[0m \u001b[1;32mNone\u001b[0m\u001b[1;33m,\u001b[0m\u001b[1;33m\u001b[0m\u001b[1;33m\u001b[0m\u001b[0m\n\u001b[1;32m-> 1178\u001b[1;33m                                          startupinfo)\n\u001b[0m\u001b[0;32m   1179\u001b[0m             \u001b[1;32mfinally\u001b[0m\u001b[1;33m:\u001b[0m\u001b[1;33m\u001b[0m\u001b[1;33m\u001b[0m\u001b[0m\n\u001b[0;32m   1180\u001b[0m                 \u001b[1;31m# Child is launched. Close the parent's copy of those pipe\u001b[0m\u001b[1;33m\u001b[0m\u001b[1;33m\u001b[0m\u001b[1;33m\u001b[0m\u001b[0m\n",
      "\u001b[1;31mFileNotFoundError\u001b[0m: [WinError 2] The system cannot find the file specified"
     ]
    }
   ],
   "source": [
    "ga = Grads(verbose = False)"
   ]
  },
  {
   "cell_type": "code",
   "execution_count": 5,
   "metadata": {},
   "outputs": [
    {
     "ename": "SyntaxError",
     "evalue": "EOL while scanning string literal (<ipython-input-5-85551ceeb70d>, line 2)",
     "output_type": "error",
     "traceback": [
      "\u001b[1;36m  File \u001b[1;32m\"<ipython-input-5-85551ceeb70d>\"\u001b[1;36m, line \u001b[1;32m2\u001b[0m\n\u001b[1;33m    dirt = \"C:\\Users\\Yulong WANG\\Documents\\GitHub\\jcope-convert\\fra_jcope\\\"\u001b[0m\n\u001b[1;37m                                                                           ^\u001b[0m\n\u001b[1;31mSyntaxError\u001b[0m\u001b[1;31m:\u001b[0m EOL while scanning string literal\n"
     ]
    }
   ],
   "source": [
    "#dirt = 'G:\\Shared drives\\Wang Yulong 2017.9\\works\\data\\fra_jcope\\'\n",
    "dirt = \"C:\\Users\\Yulong WANG\\Documents\\GitHub\\jcope-convert\\fra_jcope\\\"\n",
    "name = dirt + \"el.ctl\""
   ]
  },
  {
   "cell_type": "code",
   "execution_count": 4,
   "metadata": {},
   "outputs": [],
   "source": [
    "ga('open ' + name)\n",
    "out, rc = ga('query file')"
   ]
  },
  {
   "cell_type": "code",
   "execution_count": 5,
   "metadata": {},
   "outputs": [
    {
     "name": "stdout",
     "output_type": "stream",
     "text": [
      "Current longitude range: 131.958-142.041\n",
      "Number of grid points in the x-direction: 122\n",
      "Current latitude range: 28.9583-36.0416\n",
      "Number of grid points in the y-direction: 86\n",
      "Time set to: 2015-01-01 00:00:00\n"
     ]
    }
   ],
   "source": [
    "env = ga.env()\n",
    "if not env.xfixed:\n",
    "    print('Current longitude range: {0}-{1}'.format(env.lon[0], env.lon[1]))\n",
    "print('Number of grid points in the x-direction: '+ str(env.nx))\n",
    "if not env.yfixed:\n",
    "    print('Current latitude range: {0}-{1}'.format(env.lat[0], env.lat[1]))\n",
    "print('Number of grid points in the y-direction: '+ str(env.ny))\n",
    "print('Time set to: '+ str(env.time))"
   ]
  },
  {
   "cell_type": "code",
   "execution_count": 6,
   "metadata": {},
   "outputs": [
    {
     "data": {
      "text/plain": [
       "(['File 1 : val',\n",
       "  '  Descriptor: /Users/yulong/Documents/GitHub/jcope-convert/fra_jcope/el.ctl',\n",
       "  '  Binary: /Users/yulong/Documents/GitHub/jcope-convert/fra_jcope/el.dat',\n",
       "  '  Type = Gridded',\n",
       "  '  Xsize = 122  Ysize = 86  Zsize = 1  Tsize = 1  Esize = 1',\n",
       "  '  Number of Variables = 1',\n",
       "  '     val  1  0  val',\n",
       "  ''],\n",
       " 0)"
      ]
     },
     "execution_count": 6,
     "metadata": {},
     "output_type": "execute_result"
    }
   ],
   "source": [
    "ga('q file')"
   ]
  },
  {
   "cell_type": "code",
   "execution_count": 7,
   "metadata": {},
   "outputs": [
    {
     "data": {
      "text/plain": [
       "(['Contouring: -0.2 to 0.9 interval 0.1 ', ''], 0)"
      ]
     },
     "execution_count": 7,
     "metadata": {},
     "output_type": "execute_result"
    }
   ],
   "source": [
    "ga('d val')"
   ]
  },
  {
   "cell_type": "code",
   "execution_count": 8,
   "metadata": {},
   "outputs": [],
   "source": [
    "%matplotlib inline"
   ]
  },
  {
   "cell_type": "code",
   "execution_count": 9,
   "metadata": {},
   "outputs": [],
   "source": [
    "elvt=ga.exp('val')\n",
    "lons=ga.exp('lon')\n",
    "lats=ga.exp('lat')"
   ]
  },
  {
   "cell_type": "code",
   "execution_count": 10,
   "metadata": {},
   "outputs": [
    {
     "data": {
      "text/plain": [
       "array([[131.95833, 132.04166, 132.12498, ..., 141.87439, 141.95772,\n",
       "        142.04105],\n",
       "       [131.95833, 132.04166, 132.12498, ..., 141.87439, 141.95772,\n",
       "        142.04105],\n",
       "       [131.95833, 132.04166, 132.12498, ..., 141.87439, 141.95772,\n",
       "        142.04105],\n",
       "       ...,\n",
       "       [131.95833, 132.04166, 132.12498, ..., 141.87439, 141.95772,\n",
       "        142.04105],\n",
       "       [131.95833, 132.04166, 132.12498, ..., 141.87439, 141.95772,\n",
       "        142.04105],\n",
       "       [131.95833, 132.04166, 132.12498, ..., 141.87439, 141.95772,\n",
       "        142.04105]], dtype=float32)"
      ]
     },
     "execution_count": 10,
     "metadata": {},
     "output_type": "execute_result"
    }
   ],
   "source": [
    "lons"
   ]
  },
  {
   "cell_type": "code",
   "execution_count": 11,
   "metadata": {},
   "outputs": [
    {
     "data": {
      "text/plain": [
       "array([[28.958334, 28.958334, 28.958334, ..., 28.958334, 28.958334,\n",
       "        28.958334],\n",
       "       [29.041668, 29.041668, 29.041668, ..., 29.041668, 29.041668,\n",
       "        29.041668],\n",
       "       [29.125002, 29.125002, 29.125002, ..., 29.125002, 29.125002,\n",
       "        29.125002],\n",
       "       ...,\n",
       "       [35.874966, 35.874966, 35.874966, ..., 35.874966, 35.874966,\n",
       "        35.874966],\n",
       "       [35.958298, 35.958298, 35.958298, ..., 35.958298, 35.958298,\n",
       "        35.958298],\n",
       "       [36.04163 , 36.04163 , 36.04163 , ..., 36.04163 , 36.04163 ,\n",
       "        36.04163 ]], dtype=float32)"
      ]
     },
     "execution_count": 11,
     "metadata": {},
     "output_type": "execute_result"
    }
   ],
   "source": [
    "lats"
   ]
  },
  {
   "cell_type": "code",
   "execution_count": 12,
   "metadata": {},
   "outputs": [
    {
     "data": {
      "text/plain": [
       "array([[ 0.80714655,  0.81882536,  0.83052677, ...,  0.8071186 ,\n",
       "         0.8084132 ,  0.8100457 ],\n",
       "       [ 0.8002345 ,  0.81333864,  0.826013  , ...,  0.82658666,\n",
       "         0.82925063,  0.8317407 ],\n",
       "       [ 0.788963  ,  0.8045527 ,  0.8194244 , ...,  0.8472982 ,\n",
       "         0.85112375,  0.8542665 ],\n",
       "       ...,\n",
       "       [-0.1561631 , -0.15231898, -0.14832987, ...,  0.15148701,\n",
       "         0.19498453,  0.23573971],\n",
       "       [-0.15709755, -0.15411754, -0.15103674, ...,  0.04899939,\n",
       "         0.08818419,  0.12743483],\n",
       "       [-0.15519997, -0.15235555, -0.15247627, ..., -0.04538324,\n",
       "        -0.01372889,  0.01956397]], dtype=float32)"
      ]
     },
     "execution_count": 12,
     "metadata": {},
     "output_type": "execute_result"
    }
   ],
   "source": [
    "elvt"
   ]
  },
  {
   "cell_type": "code",
   "execution_count": 13,
   "metadata": {},
   "outputs": [
    {
     "data": {
      "text/plain": [
       "(86, 122)"
      ]
     },
     "execution_count": 13,
     "metadata": {},
     "output_type": "execute_result"
    }
   ],
   "source": [
    "elvt.shape"
   ]
  },
  {
   "cell_type": "code",
   "execution_count": null,
   "metadata": {},
   "outputs": [],
   "source": []
  }
 ],
 "metadata": {
  "kernelspec": {
   "display_name": "Python 3",
   "language": "python",
   "name": "python3"
  },
  "language_info": {
   "codemirror_mode": {
    "name": "ipython",
    "version": 3
   },
   "file_extension": ".py",
   "mimetype": "text/x-python",
   "name": "python",
   "nbconvert_exporter": "python",
   "pygments_lexer": "ipython3",
   "version": "3.7.4"
  }
 },
 "nbformat": 4,
 "nbformat_minor": 2
}
