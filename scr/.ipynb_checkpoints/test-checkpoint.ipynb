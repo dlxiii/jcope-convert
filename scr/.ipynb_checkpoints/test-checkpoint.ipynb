{
 "cells": [
  {
   "cell_type": "code",
   "execution_count": 1,
   "metadata": {},
   "outputs": [],
   "source": [
    "from py3grads import Grads\n",
    "from matplotlib import pyplot as plt\n",
    "#ga = Grads(verbose=False)\n",
    "#ga = Grads(verbose=True)"
   ]
  },
  {
   "cell_type": "code",
   "execution_count": 2,
   "metadata": {},
   "outputs": [],
   "source": [
    "ga = Grads(verbose=False)"
   ]
  },
  {
   "cell_type": "code",
   "execution_count": 3,
   "metadata": {},
   "outputs": [],
   "source": [
    "dirt = '/Users/yulong/Documents/GitHub/jcope-convert/fra_jcope/'\n",
    "name = dirt + 'el.ctl'"
   ]
  },
  {
   "cell_type": "code",
   "execution_count": 4,
   "metadata": {},
   "outputs": [],
   "source": [
    "ga('open ' + name)\n",
    "out, rc = ga('query file')"
   ]
  },
  {
   "cell_type": "code",
   "execution_count": 5,
   "metadata": {},
   "outputs": [
    {
     "name": "stdout",
     "output_type": "stream",
     "text": [
      "Current longitude range: 131.958-142.041\n",
      "Number of grid points in the x-direction: 122\n",
      "Current latitude range: 28.9583-36.0416\n",
      "Number of grid points in the y-direction: 86\n",
      "Time set to: 2015-01-01 00:00:00\n"
     ]
    }
   ],
   "source": [
    "env = ga.env()\n",
    "if not env.xfixed:\n",
    "    print('Current longitude range: {0}-{1}'.format(env.lon[0], env.lon[1]))\n",
    "print('Number of grid points in the x-direction: '+ str(env.nx))\n",
    "if not env.yfixed:\n",
    "    print('Current latitude range: {0}-{1}'.format(env.lat[0], env.lat[1]))\n",
    "print('Number of grid points in the y-direction: '+ str(env.ny))\n",
    "print('Time set to: '+ str(env.time))"
   ]
  },
  {
   "cell_type": "code",
   "execution_count": 6,
   "metadata": {},
   "outputs": [
    {
     "data": {
      "text/plain": [
       "(['File 1 : val',\n",
       "  '  Descriptor: /Users/yulong/Documents/GitHub/jcope-convert/fra_jcope/el.ctl',\n",
       "  '  Binary: /Users/yulong/Documents/GitHub/jcope-convert/fra_jcope/el.dat',\n",
       "  '  Type = Gridded',\n",
       "  '  Xsize = 122  Ysize = 86  Zsize = 1  Tsize = 1  Esize = 1',\n",
       "  '  Number of Variables = 1',\n",
       "  '     val  1  0  val',\n",
       "  ''],\n",
       " 0)"
      ]
     },
     "execution_count": 6,
     "metadata": {},
     "output_type": "execute_result"
    }
   ],
   "source": [
    "ga('q file')"
   ]
  },
  {
   "cell_type": "code",
   "execution_count": 7,
   "metadata": {},
   "outputs": [
    {
     "data": {
      "text/plain": [
       "(['Contouring: -0.2 to 0.9 interval 0.1 ', ''], 0)"
      ]
     },
     "execution_count": 7,
     "metadata": {},
     "output_type": "execute_result"
    }
   ],
   "source": [
    "ga('d val')"
   ]
  },
  {
   "cell_type": "code",
   "execution_count": 8,
   "metadata": {},
   "outputs": [],
   "source": [
    "%matplotlib inline"
   ]
  },
  {
   "cell_type": "code",
   "execution_count": 9,
   "metadata": {},
   "outputs": [],
   "source": [
    "elvt=ga.exp('val')\n",
    "lons=ga.exp('lon')\n",
    "lats=ga.exp('lat')"
   ]
  },
  {
   "cell_type": "code",
   "execution_count": 10,
   "metadata": {},
   "outputs": [
    {
     "data": {
      "text/plain": [
       "array([[131.95833, 132.04166, 132.12498, ..., 141.87439, 141.95772,\n",
       "        142.04105],\n",
       "       [131.95833, 132.04166, 132.12498, ..., 141.87439, 141.95772,\n",
       "        142.04105],\n",
       "       [131.95833, 132.04166, 132.12498, ..., 141.87439, 141.95772,\n",
       "        142.04105],\n",
       "       ...,\n",
       "       [131.95833, 132.04166, 132.12498, ..., 141.87439, 141.95772,\n",
       "        142.04105],\n",
       "       [131.95833, 132.04166, 132.12498, ..., 141.87439, 141.95772,\n",
       "        142.04105],\n",
       "       [131.95833, 132.04166, 132.12498, ..., 141.87439, 141.95772,\n",
       "        142.04105]], dtype=float32)"
      ]
     },
     "execution_count": 10,
     "metadata": {},
     "output_type": "execute_result"
    }
   ],
   "source": [
    "lons"
   ]
  },
  {
   "cell_type": "code",
   "execution_count": 11,
   "metadata": {},
   "outputs": [
    {
     "data": {
      "text/plain": [
       "array([[28.958334, 28.958334, 28.958334, ..., 28.958334, 28.958334,\n",
       "        28.958334],\n",
       "       [29.041668, 29.041668, 29.041668, ..., 29.041668, 29.041668,\n",
       "        29.041668],\n",
       "       [29.125002, 29.125002, 29.125002, ..., 29.125002, 29.125002,\n",
       "        29.125002],\n",
       "       ...,\n",
       "       [35.874966, 35.874966, 35.874966, ..., 35.874966, 35.874966,\n",
       "        35.874966],\n",
       "       [35.958298, 35.958298, 35.958298, ..., 35.958298, 35.958298,\n",
       "        35.958298],\n",
       "       [36.04163 , 36.04163 , 36.04163 , ..., 36.04163 , 36.04163 ,\n",
       "        36.04163 ]], dtype=float32)"
      ]
     },
     "execution_count": 11,
     "metadata": {},
     "output_type": "execute_result"
    }
   ],
   "source": [
    "lats"
   ]
  },
  {
   "cell_type": "code",
   "execution_count": 12,
   "metadata": {},
   "outputs": [
    {
     "data": {
      "text/plain": [
       "array([[ 0.80714655,  0.81882536,  0.83052677, ...,  0.8071186 ,\n",
       "         0.8084132 ,  0.8100457 ],\n",
       "       [ 0.8002345 ,  0.81333864,  0.826013  , ...,  0.82658666,\n",
       "         0.82925063,  0.8317407 ],\n",
       "       [ 0.788963  ,  0.8045527 ,  0.8194244 , ...,  0.8472982 ,\n",
       "         0.85112375,  0.8542665 ],\n",
       "       ...,\n",
       "       [-0.1561631 , -0.15231898, -0.14832987, ...,  0.15148701,\n",
       "         0.19498453,  0.23573971],\n",
       "       [-0.15709755, -0.15411754, -0.15103674, ...,  0.04899939,\n",
       "         0.08818419,  0.12743483],\n",
       "       [-0.15519997, -0.15235555, -0.15247627, ..., -0.04538324,\n",
       "        -0.01372889,  0.01956397]], dtype=float32)"
      ]
     },
     "execution_count": 12,
     "metadata": {},
     "output_type": "execute_result"
    }
   ],
   "source": [
    "elvt"
   ]
  },
  {
   "cell_type": "code",
   "execution_count": 13,
   "metadata": {},
   "outputs": [
    {
     "data": {
      "text/plain": [
       "(86, 122)"
      ]
     },
     "execution_count": 13,
     "metadata": {},
     "output_type": "execute_result"
    }
   ],
   "source": [
    "elvt.shape"
   ]
  },
  {
   "cell_type": "code",
   "execution_count": null,
   "metadata": {},
   "outputs": [],
   "source": []
  }
 ],
 "metadata": {
  "kernelspec": {
   "display_name": "Python 3",
   "language": "python",
   "name": "python3"
  },
  "language_info": {
   "codemirror_mode": {
    "name": "ipython",
    "version": 3
   },
   "file_extension": ".py",
   "mimetype": "text/x-python",
   "name": "python",
   "nbconvert_exporter": "python",
   "pygments_lexer": "ipython3",
   "version": "3.7.4"
  }
 },
 "nbformat": 4,
 "nbformat_minor": 2
}
