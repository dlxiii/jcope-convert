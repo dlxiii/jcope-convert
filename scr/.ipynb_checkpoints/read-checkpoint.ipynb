{
 "cells": [
  {
   "cell_type": "code",
   "execution_count": 8,
   "metadata": {},
   "outputs": [],
   "source": [
    "import numpy as np\n",
    "from scipy.io import FortranFile"
   ]
  },
  {
   "cell_type": "code",
   "execution_count": 10,
   "metadata": {},
   "outputs": [
    {
     "data": {
      "text/plain": [
       "<scipy.io._fortran.FortranFile at 0xb138499d0>"
      ]
     },
     "execution_count": 10,
     "metadata": {},
     "output_type": "execute_result"
    }
   ],
   "source": [
    "f = FortranFile('../fra_jcope/basic.dat', 'r')\n",
    "# a = f.read_reals(dtype=np.int)\n",
    "f"
   ]
  },
  {
   "cell_type": "code",
   "execution_count": 78,
   "metadata": {},
   "outputs": [
    {
     "data": {
      "text/plain": [
       "array([(b'', 23040, 14411, 30066, 31342),\n",
       "       (b'',     0,     0,     0,     0),\n",
       "       (b'',     0,     0,     0,     0), ...,\n",
       "       (b'',     0,     0,     0,     0),\n",
       "       (b'',     0,     0,     0,     0),\n",
       "       (b'',   256, 16610, 23040, 14411)],\n",
       "      dtype=[('fildsc', 'S'), ('z', '<i2'), ('zz', '<i2'), ('dz', '<i2'), ('ichflg', '<i2')])"
      ]
     },
     "execution_count": 78,
     "metadata": {},
     "output_type": "execute_result"
    }
   ],
   "source": [
    "fname = '../fra_jcope/basic.dat'\n",
    "dt = np.dtype([('fildsc', 'S'),('z', np.int16),('zz', np.int16),('dz', np.int16), ('ichflg', np.int16)])\n",
    "np.fromfile(fname, dtype=dt)"
   ]
  },
  {
   "cell_type": "code",
   "execution_count": 79,
   "metadata": {},
   "outputs": [
    {
     "data": {
      "text/plain": [
       "47"
      ]
     },
     "execution_count": 79,
     "metadata": {},
     "output_type": "execute_result"
    }
   ],
   "source": [
    "nx, ny, nz = (122, 86, 47)\n",
    "nz"
   ]
  },
  {
   "cell_type": "code",
   "execution_count": 81,
   "metadata": {},
   "outputs": [],
   "source": [
    "fname = '../fra_jcope/basic.dat'\n",
    "nx, ny, nz = (122, 86, 47)\n",
    "\n",
    "with open(fname, 'rb') as f:\n",
    "    data = np.fromfile(f, dtype=dt, count = -1)\n",
    "    #array = np.reshape(data, [nx, ny, nz], order = 'F')"
   ]
  },
  {
   "cell_type": "code",
   "execution_count": 82,
   "metadata": {},
   "outputs": [
    {
     "data": {
      "text/plain": [
       "array([(b'', 23040, 14411, 30066, 31342),\n",
       "       (b'',     0,     0,     0,     0),\n",
       "       (b'',     0,     0,     0,     0), ...,\n",
       "       (b'',     0,     0,     0,     0),\n",
       "       (b'',     0,     0,     0,     0),\n",
       "       (b'',   256, 16610, 23040, 14411)],\n",
       "      dtype=[('fildsc', 'S'), ('z', '<i2'), ('zz', '<i2'), ('dz', '<i2'), ('ichflg', '<i2')])"
      ]
     },
     "execution_count": 82,
     "metadata": {},
     "output_type": "execute_result"
    }
   ],
   "source": [
    "data"
   ]
  },
  {
   "cell_type": "code",
   "execution_count": 84,
   "metadata": {},
   "outputs": [
    {
     "data": {
      "text/plain": [
       "(739688,)"
      ]
     },
     "execution_count": 84,
     "metadata": {},
     "output_type": "execute_result"
    }
   ],
   "source": [
    "data.shape"
   ]
  },
  {
   "cell_type": "code",
   "execution_count": null,
   "metadata": {},
   "outputs": [],
   "source": []
  }
 ],
 "metadata": {
  "kernelspec": {
   "display_name": "Python 3",
   "language": "python",
   "name": "python3"
  },
  "language_info": {
   "codemirror_mode": {
    "name": "ipython",
    "version": 3
   },
   "file_extension": ".py",
   "mimetype": "text/x-python",
   "name": "python",
   "nbconvert_exporter": "python",
   "pygments_lexer": "ipython3",
   "version": "3.7.4"
  }
 },
 "nbformat": 4,
 "nbformat_minor": 2
}
